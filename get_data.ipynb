{
 "cells": [
  {
   "cell_type": "code",
   "execution_count": 99,
   "metadata": {},
   "outputs": [],
   "source": [
    "from bs4 import BeautifulSoup\n",
    "import pandas as pd\n",
    "import requests"
   ]
  },
  {
   "cell_type": "code",
   "execution_count": 106,
   "metadata": {},
   "outputs": [],
   "source": [
    "url = \"https://business-mail.jp/example\"\n",
    "page = requests.get(url)\n",
    "soup = BeautifulSoup(page.text, \"html\")\n",
    "\n",
    "links = soup.find_all(\"a\")\n",
    "wants = [\n",
    "    \"https://business-mail.jp/cat_example/outside/\",\n",
    "    \"https://business-mail.jp/cat_example/office/\",\n",
    "    \"https://business-mail.jp/tag_example/\"\n",
    "]\n",
    "filtered_links = [a['href'] for a in soup.find_all('a') if any(a['href'].startswith(y) for y in wants)]\n",
    "\n",
    "data = []\n",
    "\n",
    "for link in filtered_links:\n",
    "    # get current topic page\n",
    "    topic_page = requests.get(link)\n",
    "    topic_soup = BeautifulSoup(topic_page.text, \"html\")\n",
    "\n",
    "    # get all example links from current topic\n",
    "    topic_example_links = [a[\"href\"] for a in topic_soup.find_all(\"a\") \\\n",
    "        if a[\"href\"].startswith(\"https://business-mail.jp/example/\")]\n",
    "    topic_example_links = topic_example_links[:-4]\n",
    "    topic_example_links = [x for x in topic_example_links if x != \"https://business-mail.jp/example/\"]\n",
    "\n",
    "    # get title and text from each example\n",
    "    for example_link in topic_example_links:\n",
    "        example_page = requests.get(example_link)\n",
    "        example_soup = BeautifulSoup(example_page.text, \"html.parser\")\n",
    "        example_title = example_soup.find_all(\"h1\")[0].get_text()\n",
    "        example_email = [p.get_text(separator=\"\\n\") for p in example_soup.find_all('p')][0]\n",
    "        data.append([example_link, example_title, example_email])"
   ]
  },
  {
   "cell_type": "code",
   "execution_count": 109,
   "metadata": {},
   "outputs": [],
   "source": [
    "columns = [\"link\", \"title\", \"email\"]\n",
    "df = pd.DataFrame(data, columns=columns)\n",
    "\n",
    "df.to_csv(\"japanese_business_email_examples.csv\")\n"
   ]
  }
 ],
 "metadata": {
  "kernelspec": {
   "display_name": "dream",
   "language": "python",
   "name": "python3"
  },
  "language_info": {
   "codemirror_mode": {
    "name": "ipython",
    "version": 3
   },
   "file_extension": ".py",
   "mimetype": "text/x-python",
   "name": "python",
   "nbconvert_exporter": "python",
   "pygments_lexer": "ipython3",
   "version": "3.10.6"
  }
 },
 "nbformat": 4,
 "nbformat_minor": 2
}
