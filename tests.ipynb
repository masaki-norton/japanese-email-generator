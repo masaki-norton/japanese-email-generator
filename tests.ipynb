{
 "cells": [
  {
   "cell_type": "code",
   "execution_count": 1,
   "metadata": {},
   "outputs": [],
   "source": [
    "import streamlit as st\n",
    "import openai\n",
    "import os\n",
    "\n",
    "# Get credentials\n",
    "openai.api_key = os.getenv(\"OPENAI_API_KEY\")\n",
    "\n",
    "# st.title(\"Japaense Email Assistant\")\n",
    "\n",
    "# # Get prompts from user\n",
    "# system_prompt = st.text_area(\"Enter system prompt:\", \"You are a helpful assistant.\")\n",
    "# user_prompt = st.text_area(\"Enter your prompt:\")\n",
    "\n",
    "def get_chatgpt_response(system_prompt, user_prompt):\n",
    "    messages = [\n",
    "        {'role': 'system', 'content': system_prompt},\n",
    "        {'role': 'user', 'content': user_prompt},\n",
    "    ]\n",
    "    response = openai.chat.completions.create(\n",
    "        model=\"gpt-4\",\n",
    "        messages=messages,\n",
    "        max_tokens=150,\n",
    "        n=1,\n",
    "        stop=None,\n",
    "        temperature=0.7\n",
    "    )\n",
    "\n",
    "    return response.choices[0].message.content\n",
    "\n",
    "system_prompt = \"You are an assistant.\"\n",
    "user_prompt = \"What can you help me out with?\"\n",
    "\n",
    "output = get_chatgpt_response(system_prompt, user_prompt)\n"
   ]
  },
  {
   "cell_type": "code",
   "execution_count": 3,
   "metadata": {},
   "outputs": [
    {
     "name": "stdout",
     "output_type": "stream",
     "text": [
      "As an AI assistant, I can help with a wide range of tasks, including:\n",
      "\n",
      "1. Answering questions and providing information on various topics.\n",
      "2. Setting reminders, alarms, and appointments.\n",
      "3. Sending emails or text messages.\n",
      "4. Making phone calls.\n",
      "5. Providing news updates and weather forecasts.\n",
      "6. Providing recommendations for books, movies, restaurants, etc.\n",
      "7. Assisting with travel arrangements.\n",
      "8. Offering language translation.\n",
      "9. Assisting with online shopping.\n",
      "10. Providing health and fitness advice.\n",
      "\n",
      "And much more! If there's a specific task you need assistance with, feel free to ask.\n"
     ]
    }
   ],
   "source": [
    "print(output)"
   ]
  },
  {
   "cell_type": "code",
   "execution_count": null,
   "metadata": {},
   "outputs": [],
   "source": []
  }
 ],
 "metadata": {
  "kernelspec": {
   "display_name": "Python 3",
   "language": "python",
   "name": "python3"
  },
  "language_info": {
   "codemirror_mode": {
    "name": "ipython",
    "version": 3
   },
   "file_extension": ".py",
   "mimetype": "text/x-python",
   "name": "python",
   "nbconvert_exporter": "python",
   "pygments_lexer": "ipython3",
   "version": "3.10.6"
  }
 },
 "nbformat": 4,
 "nbformat_minor": 2
}
