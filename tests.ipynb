{
 "cells": [
  {
   "cell_type": "code",
   "execution_count": 21,
   "metadata": {},
   "outputs": [],
   "source": [
    "import streamlit as st\n",
    "import pandas as pd\n",
    "import openai\n",
    "import os\n",
    "\n",
    "# Get credentials\n",
    "openai.api_key = os.getenv(\"OPENAI_API_KEY\")\n",
    "\n",
    "# st.title(\"Japaense Email Assistant\")\n",
    "\n",
    "# # Get prompts from user\n",
    "# system_prompt = st.text_area(\"Enter system prompt:\", \"You are a helpful assistant.\")\n",
    "# user_prompt = st.text_area(\"Enter your prompt:\")\n",
    "\n",
    "def get_chatgpt_response(system_prompt, user_prompt):\n",
    "    messages = [\n",
    "        {'role': 'system', 'content': system_prompt},\n",
    "        {'role': 'user', 'content': user_prompt},\n",
    "    ]\n",
    "    response = openai.chat.completions.create(\n",
    "        model=\"gpt-4o\",\n",
    "        messages=messages,\n",
    "        max_tokens=1000,\n",
    "        n=1,\n",
    "        stop=None,\n",
    "        temperature=0.7\n",
    "    )\n",
    "\n",
    "    return response.choices[0].message.content\n"
   ]
  },
  {
   "cell_type": "code",
   "execution_count": 24,
   "metadata": {},
   "outputs": [],
   "source": [
    "df = pd.read_csv(\"japanese_business_email_examples_clean.csv\")\n",
    "emails_json = df.sample(frac=0.5).reset_index(drop=True).to_json(orient=\"records\", force_ascii=False)\n",
    "\n",
    "system_prompt = f\"\"\"\n",
    "You are an assistant that generates Japanese business emails based on provided examples.\n",
    "Here are some examples of how to structure the emails:\n",
    "\n",
    "{emails_json}\n",
    "\n",
    "Now, please generate an email based on the following input.\n",
    "\"\"\"\n",
    "\n",
    "system_prompt_simple = f\"\"\"\n",
    "You are an assistant that generates Japanese business emails based on provided examples.\n",
    "\n",
    "Now, please generate an email based on the following input.\n",
    "\"\"\"\n",
    "\n",
    "user_prompt = f\"\"\"\n",
    "- Relationship: Just met the recipient at a recent industry conference.\n",
    "- Type of Relationship: B2B, potential partnership.\n",
    "- Message: Follow up on the initial conversation at the conference, express interest in potential collaboration, and suggest a call or meeting to explore opportunities.\n",
    "\"\"\"\n",
    "\n",
    "\n",
    "output = get_chatgpt_response(system_prompt_simple, user_prompt)"
   ]
  },
  {
   "cell_type": "code",
   "execution_count": 23,
   "metadata": {},
   "outputs": [
    {
     "name": "stdout",
     "output_type": "stream",
     "text": [
      "Certainly! Below is a sample email for a cold-outreach to introduce your new email translation tool and to request a meeting to discuss their current internal workflow.\n",
      "\n",
      "---\n",
      "\n",
      "株式会社●●●●  \n",
      "●●●●様  \n",
      "\n",
      "突然のメールにて失礼いたします。  \n",
      "○○株式会社の△△太郎と申します。  \n",
      "\n",
      "このたびは、弊社が新たに開発した「メール翻訳ツール」についてご紹介させていただきたく、ご連絡いたしました。  \n",
      "このツールは、社内外でのメールコミュニケーションをよりスムーズにし、言語の壁を越えて迅速かつ正確な対応を可能にすることを目的としています。\n",
      "\n",
      "現在、貴社の内部ワークフローにおいて、メールの翻訳や多言語対応に関する課題があるかと存じます。弊社のツールがその解決に寄与できるのではないかと考えております。  \n",
      "つきましては、一度お時間をいただき、貴社の現在のワークフローについてお伺いし、具体的なご提案をさせていただければと思います。\n",
      "\n",
      "以下の日程でご都合の良い日時をお教えいただけますと幸いです。  \n",
      "（他の日程をご希望の場合も、お気軽にご相談ください。）\n",
      "\n",
      "＜候補日時＞  \n",
      "・●月●日（●）10:00～11:00  \n",
      "・●月●日（●）14:00～15:00  \n",
      "・●月●日（●）16:00～17:00  \n",
      "\n",
      "お忙しいところ恐縮ですが、ご検討のほどよろしくお願い申し上げます。  \n",
      "ご返信をお待ちしております。  \n",
      "\n",
      "どうぞよろしくお願いいたします。\n",
      "\n",
      "△△太郎  \n",
      "○○株式会社  \n",
      "〒000-0000 東京都○○区○○町1-2-3  \n",
      "電話番号: 03-1234-5678  \n",
      "メール: taro.yamada@company.com  \n",
      "\n",
      "---\n"
     ]
    }
   ],
   "source": [
    "print(output)"
   ]
  },
  {
   "cell_type": "code",
   "execution_count": 25,
   "metadata": {},
   "outputs": [
    {
     "name": "stdout",
     "output_type": "stream",
     "text": [
      "件名: 新しいメール翻訳ツールのご提案\n",
      "\n",
      "株式会社 [相手の会社名]  \n",
      "[相手の名前] 様\n",
      "\n",
      "突然のご連絡失礼いたします。私、[あなたの名前]と申します。[あなたの会社名]にて、ビジネスコミュニケーションの効率化を支援する新しいメール翻訳ツールを開発しております。\n",
      "\n",
      "このツールは、多言語対応のメールコミュニケーションをスムーズに行うために設計されており、貴社の内部ワークフローを改善する可能性があると考えております。そこで、一度お時間をいただき、貴社の現在のワークフローや課題についてお伺いし、私どものツールがどのようにお役に立てるかをお話しさせていただければと存じます。\n",
      "\n",
      "ご多忙のところ恐縮ですが、ご都合の良い日時をご教示いただけますと幸いです。何卒よろしくお願い申し上げます。\n",
      "\n",
      "お返事を心よりお待ちしております。\n",
      "\n",
      "敬具\n",
      "\n",
      "[あなたの名前]  \n",
      "[あなたの役職]  \n",
      "[あなたの会社名]  \n",
      "[あなたの連絡先情報]\n"
     ]
    }
   ],
   "source": [
    "print(output)"
   ]
  },
  {
   "cell_type": "code",
   "execution_count": null,
   "metadata": {},
   "outputs": [],
   "source": []
  }
 ],
 "metadata": {
  "kernelspec": {
   "display_name": "Python 3",
   "language": "python",
   "name": "python3"
  },
  "language_info": {
   "codemirror_mode": {
    "name": "ipython",
    "version": 3
   },
   "file_extension": ".py",
   "mimetype": "text/x-python",
   "name": "python",
   "nbconvert_exporter": "python",
   "pygments_lexer": "ipython3",
   "version": "3.10.6"
  }
 },
 "nbformat": 4,
 "nbformat_minor": 2
}
