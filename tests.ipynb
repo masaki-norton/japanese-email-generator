{
 "cells": [
  {
   "cell_type": "code",
   "execution_count": null,
   "metadata": {},
   "outputs": [],
   "source": [
    "import streamlit as st\n",
    "import openai\n",
    "import os\n",
    "\n",
    "# Get credentials\n",
    "openai.api_key = os.getenv(\"OPENAI_API_KEY\")\n",
    "\n",
    "# st.title(\"Japaense Email Assistant\")\n",
    "\n",
    "# # Get prompts from user\n",
    "# system_prompt = st.text_area(\"Enter system prompt:\", \"You are a helpful assistant.\")\n",
    "# user_prompt = st.text_area(\"Enter your prompt:\")\n",
    "\n",
    "def get_chatgpt_response(system_prompt, user_prompt):\n",
    "    messages = [\n",
    "        {'role': 'system', 'content': system_prompt},\n",
    "        {'role': 'user', 'content': user_prompt},\n",
    "    ]\n",
    "    response = openai.chat.completions.create(\n",
    "        model=\"gpt-4\",\n",
    "        messages=messages,\n",
    "        max_tokens=150,\n",
    "        n=1,\n",
    "        stop=None,\n",
    "        temperature=0.7\n",
    "    )\n",
    "\n",
    "    return response.choices[0].message.content\n",
    "\n",
    "system_prompt = \"You are an assistant.\"\n",
    "user_prompt = \"What can you help me out with?\"\n",
    "\n",
    "print(get_chatgpt_response(system_prompt, user_prompt))\n"
   ]
  }
 ],
 "metadata": {
  "language_info": {
   "name": "python"
  }
 },
 "nbformat": 4,
 "nbformat_minor": 2
}
