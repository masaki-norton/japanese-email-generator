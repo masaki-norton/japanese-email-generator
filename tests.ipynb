{
 "cells": [
  {
   "cell_type": "code",
   "execution_count": 5,
   "metadata": {},
   "outputs": [],
   "source": [
    "import streamlit as st\n",
    "import pandas as pd\n",
    "import openai\n",
    "import os\n",
    "\n",
    "# Get credentials\n",
    "openai.api_key = os.getenv(\"OPENAI_API_KEY\")\n",
    "\n",
    "# st.title(\"Japaense Email Assistant\")\n",
    "\n",
    "# # Get prompts from user\n",
    "# system_prompt = st.text_area(\"Enter system prompt:\", \"You are a helpful assistant.\")\n",
    "# user_prompt = st.text_area(\"Enter your prompt:\")\n",
    "\n",
    "def get_chatgpt_response(system_prompt, user_prompt):\n",
    "    messages = [\n",
    "        {'role': 'system', 'content': system_prompt},\n",
    "        {'role': 'user', 'content': user_prompt},\n",
    "    ]\n",
    "    response = openai.chat.completions.create(\n",
    "        model=\"gpt-4o\",\n",
    "        messages=messages,\n",
    "        max_tokens=1000,\n",
    "        n=1,\n",
    "        stop=None,\n",
    "        temperature=0.7\n",
    "    )\n",
    "\n",
    "    return response.choices[0].message.content\n"
   ]
  },
  {
   "cell_type": "code",
   "execution_count": 10,
   "metadata": {},
   "outputs": [],
   "source": [
    "df = pd.read_csv(\"japanese_business_email_examples_clean.csv\")\n",
    "emails_json = df.sample(frac=0.5).reset_index(drop=True).to_json(orient=\"records\", force_ascii=False)\n",
    "\n",
    "system_prompt = f\"\"\"\n",
    "You are an assistant that generates Japanese business emails based on provided examples.\n",
    "Here are some examples of how to structure the emails:\n",
    "\n",
    "{emails_json}\n",
    "\n",
    "Also, below are things to keep in mind when generating Japanese emails:\n",
    "- When using consecutive dash-like characters (-, =, _, etc.) to create lines for formatting,\n",
    "make sure that there is no other text on that line so the line stands out.\n",
    "- Special characters like circles are used as placeholders in the sample emails I sent you.\n",
    "These are placeholders for company names, poeple's names, or similar. Please encorporate this\n",
    "into your generated emails appropriately.\n",
    "\n",
    "Now, please generate an email based on the following input.\n",
    "\"\"\"\n",
    "\n",
    "system_prompt_simple = f\"\"\"\n",
    "You are an assistant that generates Japanese business emails based on provided examples.\n",
    "\n",
    "Now, please generate an email based on the following input.\n",
    "\"\"\"\n",
    "\n",
    "user_prompt = f\"\"\"\n",
    "sales email to someone i have cold-emailed a few times before. we spoke over email, but never in depth.  short yet simple explaining my new email assistant that generates japanese b2b emails based on short english prompts. ask for time slots\"\"\"\n",
    "\n",
    "\n",
    "output = get_chatgpt_response(system_prompt_simple, user_prompt)"
   ]
  },
  {
   "cell_type": "code",
   "execution_count": 11,
   "metadata": {},
   "outputs": [
    {
     "name": "stdout",
     "output_type": "stream",
     "text": [
      "件名：新しいメールアシスタントのご紹介とお打ち合わせのお願い\n",
      "\n",
      "[相手の名前]様\n",
      "\n",
      "いつもお世話になっております。以前より何度かご連絡させていただいております[あなたの名前]です。\n",
      "\n",
      "今回は、弊社が新たに開発した「メールアシスタント」についてご紹介させていただきます。このアシスタントは、短い英語のプロンプトに基づいて、日本語のB2Bメールを自動的に生成するツールです。これにより、メール作成の手間が大幅に軽減され、効率的にコミュニケーションを取ることが可能になります。\n",
      "\n",
      "是非一度、お時間を頂戴し、このツールについて詳しくご説明させていただければと思います。ご都合のよい時間帯をいくつかご提示いただけますでしょうか？\n",
      "\n",
      "お忙しいところ恐れ入りますが、ご返信お待ちしております。\n",
      "\n",
      "何卒よろしくお願い申し上げます。\n",
      "\n",
      "[あなたの名前]\n",
      "\n",
      "[あなたの会社名]\n",
      "\n",
      "[あなたの連絡先]\n"
     ]
    }
   ],
   "source": [
    "print(output)"
   ]
  }
 ],
 "metadata": {
  "kernelspec": {
   "display_name": "Python 3",
   "language": "python",
   "name": "python3"
  },
  "language_info": {
   "codemirror_mode": {
    "name": "ipython",
    "version": 3
   },
   "file_extension": ".py",
   "mimetype": "text/x-python",
   "name": "python",
   "nbconvert_exporter": "python",
   "pygments_lexer": "ipython3",
   "version": "3.10.6"
  }
 },
 "nbformat": 4,
 "nbformat_minor": 2
}
