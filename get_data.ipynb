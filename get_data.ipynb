{
 "cells": [
  {
   "cell_type": "code",
   "execution_count": 1,
   "metadata": {},
   "outputs": [],
   "source": [
    "from bs4 import BeautifulSoup\n",
    "import pandas as pd\n",
    "import requests"
   ]
  },
  {
   "cell_type": "markdown",
   "metadata": {},
   "source": [
    "## Data Extraction"
   ]
  },
  {
   "cell_type": "code",
   "execution_count": 2,
   "metadata": {},
   "outputs": [],
   "source": [
    "url = \"https://business-mail.jp/example\"\n",
    "page = requests.get(url)\n",
    "soup = BeautifulSoup(page.text, \"html\")\n",
    "\n",
    "links = soup.find_all(\"a\")\n",
    "wants = [\n",
    "    \"https://business-mail.jp/cat_example/outside/\",\n",
    "    \"https://business-mail.jp/cat_example/office/\",\n",
    "    \"https://business-mail.jp/tag_example/\"\n",
    "]\n",
    "filtered_links = [a['href'] for a in soup.find_all('a') if any(a['href'].startswith(y) for y in wants)]\n",
    "\n",
    "data = []\n",
    "\n",
    "for link in filtered_links:\n",
    "    # get current topic page\n",
    "    topic_page = requests.get(link)\n",
    "    topic_soup = BeautifulSoup(topic_page.text, \"html\")\n",
    "\n",
    "    # get all example links from current topic\n",
    "    topic_example_links = [a[\"href\"] for a in topic_soup.find_all(\"a\") \\\n",
    "        if a[\"href\"].startswith(\"https://business-mail.jp/example/\")]\n",
    "    topic_example_links = [x for x in topic_example_links if x != \"https://business-mail.jp/example/\"]\n",
    "\n",
    "    # get title and text from each example\n",
    "    for example_link in topic_example_links:\n",
    "        example_page = requests.get(example_link)\n",
    "        example_soup = BeautifulSoup(example_page.text, \"html.parser\")\n",
    "        example_title = example_soup.find_all(\"h1\")[0].get_text()\n",
    "        example_email = [p.get_text(separator=\"\\n\") for p in example_soup.find_all('p')][0]\n",
    "        data.append([example_link, example_title, example_email])"
   ]
  },
  {
   "cell_type": "code",
   "execution_count": 65,
   "metadata": {},
   "outputs": [],
   "source": [
    "# clean up and save as csv\n",
    "columns = [\"link\", \"title\", \"email\"]\n",
    "df = pd.DataFrame(data, columns=columns)\n",
    "df = df.drop_duplicates(\"email\").reset_index().drop(\"index\", axis=1)\n",
    "\n",
    "df.to_csv(\"japanese_business_email_examples_raw.csv\", index=False)\n"
   ]
  },
  {
   "cell_type": "markdown",
   "metadata": {},
   "source": [
    "## Data Cleaning"
   ]
  },
  {
   "cell_type": "code",
   "execution_count": 115,
   "metadata": {},
   "outputs": [],
   "source": [
    "import re\n",
    "\n",
    "# Cleaning helper methods\n",
    "\n",
    "def remove_extra_delineations(email_body):\n",
    "    # Remove excessive line breaks and normalize spacing\n",
    "    email_body = re.sub(r'\\n\\s*\\n', '\\n', email_body.strip())\n",
    "\n",
    "    return email_body\n",
    "\n",
    "def truncate_signature1(text):\n",
    "    index = text.find(\"----\")\n",
    "    if index != -1:\n",
    "        return text[:index]\n",
    "    return text\n",
    "\n",
    "def truncate_signature2(text):\n",
    "    index = text.find(\"━━━━━━━━━━━━━━━━━━━━━━━━━━━━━━━━\")\n",
    "    if index != -1:\n",
    "        return text[:index]\n",
    "    return text\n"
   ]
  },
  {
   "cell_type": "code",
   "execution_count": 123,
   "metadata": {},
   "outputs": [],
   "source": [
    "df = pd.read_csv(\"japanese_business_email_examples_raw.csv\")\n",
    "\n",
    "df[\"email_clean\"] = df[\"email\"].apply(lambda x: \\\n",
    "    remove_extra_delineations(truncate_signature1(truncate_signature2(x))))\n",
    "\n",
    "df_clean = df[['link', 'title', 'email_clean']]\n",
    "df_clean.to_csv(\"japanese_business_email_examples_clean.csv\", index=False)"
   ]
  },
  {
   "cell_type": "markdown",
   "metadata": {},
   "source": [
    "## Current State\n",
    "Token count of all emails flattened is approximately 40,000, total maximum should be under  50,000 with instruction set."
   ]
  },
  {
   "cell_type": "markdown",
   "metadata": {},
   "source": []
  }
 ],
 "metadata": {
  "kernelspec": {
   "display_name": "dream",
   "language": "python",
   "name": "python3"
  },
  "language_info": {
   "codemirror_mode": {
    "name": "ipython",
    "version": 3
   },
   "file_extension": ".py",
   "mimetype": "text/x-python",
   "name": "python",
   "nbconvert_exporter": "python",
   "pygments_lexer": "ipython3",
   "version": "3.10.6"
  }
 },
 "nbformat": 4,
 "nbformat_minor": 2
}
